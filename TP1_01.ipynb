{
 "cells": [
  {
   "cell_type": "code",
   "execution_count": 17,
   "id": "electric-approval",
   "metadata": {},
   "outputs": [],
   "source": [
    "from math import sqrt\n",
    "import random"
   ]
  },
  {
   "cell_type": "code",
   "execution_count": 19,
   "id": "bright-registrar",
   "metadata": {},
   "outputs": [],
   "source": [
    "Dataset = list()\n",
    "i = 0\n",
    "R = 20\n",
    "R1 = 40"
   ]
  },
  {
   "cell_type": "code",
   "execution_count": 56,
   "id": "aquatic-label",
   "metadata": {},
   "outputs": [],
   "source": [
    "while True:\n",
    "    X = random.randint(1, 100)\n",
    "    Y = random.randint(1, 100)\n",
    "    if(euclidean_distance([0,0],[X,Y])<R):\n",
    "        Dataset.append([X,Y,0])\n",
    "        i+=1\n",
    "    if(euclidean_distance([0,0],[X,Y])>R1):\n",
    "        Dataset.append([X,Y,1])\n",
    "        i+=1\n",
    "    if(i==1000):\n",
    "        break"
   ]
  },
  {
   "cell_type": "code",
   "execution_count": 21,
   "id": "precise-prerequisite",
   "metadata": {},
   "outputs": [
    {
     "data": {
      "text/plain": [
       "[[65, 36, 1],\n",
       " [9, 99, 0],\n",
       " [63, 13, 1],\n",
       " [99, 70, 1],\n",
       " [65, 90, 1],\n",
       " [13, 81, 0],\n",
       " [68, 47, 1],\n",
       " [93, 12, 1],\n",
       " [52, 44, 1],\n",
       " [65, 66, 1],\n",
       " [16, 10, 0],\n",
       " [87, 35, 1],\n",
       " [83, 81, 1],\n",
       " [77, 2, 1],\n",
       " [93, 2, 1],\n",
       " [12, 41, 0],\n",
       " [68, 8, 1],\n",
       " [11, 34, 0],\n",
       " [58, 62, 1],\n",
       " [15, 65, 0],\n",
       " [79, 65, 1],\n",
       " [59, 41, 1],\n",
       " [6, 100, 0],\n",
       " [59, 53, 1],\n",
       " [91, 85, 1],\n",
       " [64, 70, 1],\n",
       " [68, 1, 1],\n",
       " [15, 62, 0],\n",
       " [42, 16, 1],\n",
       " [9, 80, 0],\n",
       " [76, 81, 1],\n",
       " [53, 96, 1],\n",
       " [49, 50, 1],\n",
       " [15, 52, 0],\n",
       " [80, 12, 1],\n",
       " [49, 76, 1],\n",
       " [77, 2, 1],\n",
       " [90, 85, 1],\n",
       " [87, 38, 1],\n",
       " [53, 28, 1],\n",
       " [95, 5, 1],\n",
       " [95, 68, 1],\n",
       " [12, 25, 0],\n",
       " [11, 22, 0],\n",
       " [69, 79, 1],\n",
       " [92, 87, 1],\n",
       " [10, 96, 0],\n",
       " [92, 99, 1],\n",
       " [41, 35, 1],\n",
       " [42, 70, 1],\n",
       " [82, 29, 1],\n",
       " [100, 98, 1],\n",
       " [12, 9, 0],\n",
       " [2, 9, 0],\n",
       " [60, 36, 1],\n",
       " [69, 21, 1],\n",
       " [9, 92, 0],\n",
       " [62, 38, 1],\n",
       " [10, 15, 0],\n",
       " [74, 96, 1],\n",
       " [77, 80, 1],\n",
       " [58, 97, 1],\n",
       " [88, 30, 1],\n",
       " [48, 17, 1],\n",
       " [42, 31, 1],\n",
       " [16, 12, 0],\n",
       " [78, 26, 1],\n",
       " [3, 23, 0],\n",
       " [63, 28, 1],\n",
       " [45, 13, 1],\n",
       " [45, 63, 1],\n",
       " [85, 76, 1],\n",
       " [84, 72, 1],\n",
       " [72, 24, 1],\n",
       " [4, 4, 0],\n",
       " [17, 9, 0],\n",
       " [50, 13, 1],\n",
       " [84, 89, 1],\n",
       " [9, 42, 0],\n",
       " [58, 61, 1],\n",
       " [42, 87, 1],\n",
       " [53, 49, 1],\n",
       " [8, 1, 0],\n",
       " [97, 83, 1],\n",
       " [85, 91, 1],\n",
       " [53, 82, 1],\n",
       " [53, 88, 1],\n",
       " [84, 7, 1],\n",
       " [91, 49, 1],\n",
       " [99, 38, 1],\n",
       " [84, 44, 1],\n",
       " [52, 19, 1],\n",
       " [71, 40, 1],\n",
       " [10, 54, 0],\n",
       " [11, 88, 0],\n",
       " [63, 99, 1],\n",
       " [84, 78, 1],\n",
       " [75, 29, 1],\n",
       " [61, 28, 1],\n",
       " [95, 75, 1]]"
      ]
     },
     "execution_count": 21,
     "metadata": {},
     "output_type": "execute_result"
    }
   ],
   "source": [
    "Dataset"
   ]
  },
  {
   "cell_type": "code",
   "execution_count": 1,
   "id": "sitting-round",
   "metadata": {},
   "outputs": [],
   "source": [
    "def euclidean_distance(row1, row2):\n",
    "    distance = 0.0\n",
    "    for i in range(len(row1)-1):\n",
    "        distance += (row1[i] - row2[i])**2\n",
    "    return sqrt(distance)"
   ]
  },
  {
   "cell_type": "code",
   "execution_count": 3,
   "id": "elder-chrome",
   "metadata": {},
   "outputs": [],
   "source": [
    "def get_neighbors(train, test_row, num_neighbors):\n",
    "    distances = list()\n",
    "    for train_row in train:\n",
    "        dist = euclidean_distance(test_row, train_row)\n",
    "        distances.append((train_row, dist))\n",
    "    distances.sort(key=lambda tup: tup[1])\n",
    "    neighbors = list()\n",
    "    for i in range(num_neighbors):\n",
    "        neighbors.append(distances[i][0])\n",
    "    return neighbors"
   ]
  },
  {
   "cell_type": "code",
   "execution_count": 24,
   "id": "resident-package",
   "metadata": {},
   "outputs": [
    {
     "name": "stdout",
     "output_type": "stream",
     "text": [
      "[65, 36, 1]\n",
      "[62, 38, 1]\n",
      "[60, 36, 1]\n"
     ]
    }
   ],
   "source": [
    "neighbors = get_neighbors(Dataset, Dataset[0], 3)\n",
    "for neighbor in neighbors:\n",
    "    print(neighbor)"
   ]
  },
  {
   "cell_type": "code",
   "execution_count": 10,
   "id": "statistical-program",
   "metadata": {},
   "outputs": [],
   "source": [
    "def predict_classification(train, test_row, num_neighbors):\n",
    "    neighbors = get_neighbors(train, test_row, num_neighbors)\n",
    "    output_values = [row[-1] for row in neighbors]\n",
    "    prediction = max(set(output_values), key=output_values.count)\n",
    "    return prediction"
   ]
  },
  {
   "cell_type": "code",
   "execution_count": 29,
   "id": "technical-spine",
   "metadata": {},
   "outputs": [
    {
     "name": "stdout",
     "output_type": "stream",
     "text": [
      "1\n"
     ]
    }
   ],
   "source": [
    "X= [50,30]\n",
    "print(predict_classification(Dataset,X,3))"
   ]
  },
  {
   "cell_type": "code",
   "execution_count": 57,
   "id": "extraordinary-glasgow",
   "metadata": {},
   "outputs": [],
   "source": [
    "Testset = list()\n",
    "J = 0\n",
    "while True:\n",
    "    X = random.randint(1, 100)\n",
    "    Y = random.randint(1, 100)\n",
    "    if(euclidean_distance([0,0],[X,Y])>R and euclidean_distance([0,0],[X,Y])<R1):\n",
    "        Testset.append([X,Y])\n",
    "        J+=1\n",
    "    if(J==20):\n",
    "        break"
   ]
  },
  {
   "cell_type": "code",
   "execution_count": 33,
   "id": "approved-fabric",
   "metadata": {},
   "outputs": [
    {
     "data": {
      "text/plain": [
       "False"
      ]
     },
     "execution_count": 33,
     "metadata": {},
     "output_type": "execute_result"
    }
   ],
   "source": [
    "T = [1,2,3]\n",
    "T1 = [1,2,4]\n",
    "T==T1"
   ]
  },
  {
   "cell_type": "code",
   "execution_count": 58,
   "id": "gorgeous-sewing",
   "metadata": {},
   "outputs": [
    {
     "name": "stdout",
     "output_type": "stream",
     "text": [
      "[0, 1, 1, 0, 1, 0, 0, 1, 0, 1, 0, 0, 1, 1, 0, 1, 1, 1, 1, 0]\n",
      "[0, 1, 1, 0, 1, 0, 0, 1, 0, 1, 0, 0, 1, 1, 0, 1, 1, 1, 1, 0]\n",
      "[0, 1, 1, 0, 1, 0, 0, 1, 0, 1, 0, 0, 1, 1, 0, 1, 1, 1, 1, 0]\n",
      "[0, 1, 1, 0, 1, 0, 0, 1, 0, 1, 0, 0, 1, 1, 0, 1, 1, 1, 1, 0]\n",
      "[0, 1, 1, 0, 1, 0, 0, 1, 0, 1, 0, 0, 1, 0, 0, 1, 1, 1, 1, 0]\n",
      "[0, 1, 1, 0, 1, 0, 0, 1, 0, 1, 0, 0, 1, 0, 0, 1, 1, 1, 1, 0]\n",
      "[0, 1, 1, 0, 1, 0, 0, 1, 0, 1, 0, 0, 1, 0, 0, 1, 1, 1, 1, 0]\n",
      "[0, 1, 1, 0, 1, 0, 0, 1, 0, 1, 0, 0, 1, 0, 0, 1, 1, 1, 1, 0]\n",
      "[0, 1, 1, 0, 1, 0, 0, 1, 0, 1, 0, 0, 1, 0, 0, 1, 1, 1, 1, 0]\n",
      "[0, 1, 1, 0, 1, 0, 0, 1, 0, 1, 0, 0, 1, 0, 0, 1, 1, 1, 1, 0]\n",
      "[0, 1, 1, 0, 1, 0, 0, 1, 0, 1, 0, 0, 1, 0, 0, 1, 1, 1, 1, 0]\n",
      "[0, 1, 1, 0, 1, 0, 0, 1, 0, 1, 0, 0, 1, 0, 0, 1, 1, 1, 1, 0]\n",
      "[0, 1, 1, 0, 1, 0, 0, 1, 0, 1, 0, 0, 1, 0, 0, 1, 1, 1, 1, 0]\n",
      "[0, 1, 1, 0, 1, 0, 0, 1, 0, 1, 0, 0, 1, 0, 0, 1, 1, 1, 1, 0]\n",
      "[0, 1, 1, 0, 1, 0, 0, 1, 0, 1, 0, 0, 1, 0, 0, 1, 1, 1, 1, 0]\n",
      "[0, 1, 1, 0, 1, 0, 0, 1, 0, 1, 0, 0, 1, 0, 0, 1, 1, 1, 1, 0]\n",
      "[0, 1, 1, 0, 1, 0, 0, 1, 0, 1, 0, 0, 1, 0, 0, 1, 1, 1, 1, 0]\n",
      "[0, 1, 1, 0, 1, 0, 0, 1, 0, 1, 0, 0, 1, 0, 0, 1, 1, 1, 1, 0]\n",
      "[0, 1, 1, 0, 1, 0, 0, 1, 0, 1, 0, 0, 1, 0, 0, 1, 1, 1, 1, 0]\n",
      "[0, 1, 1, 0, 1, 0, 0, 1, 0, 1, 0, 0, 1, 0, 0, 1, 1, 1, 1, 0]\n",
      "[0, 1, 1, 0, 1, 0, 0, 1, 0, 1, 0, 0, 1, 0, 0, 1, 1, 1, 1, 0]\n",
      "[0, 1, 1, 0, 1, 0, 0, 1, 0, 1, 0, 0, 1, 0, 0, 1, 1, 1, 1, 0]\n",
      "[0, 1, 1, 0, 1, 0, 0, 1, 0, 1, 0, 0, 1, 0, 0, 1, 1, 1, 1, 0]\n",
      "[0, 1, 1, 0, 1, 0, 0, 1, 0, 1, 0, 0, 1, 0, 0, 1, 1, 1, 1, 0]\n",
      "[0, 1, 1, 0, 1, 0, 0, 1, 0, 1, 0, 0, 1, 0, 0, 1, 1, 1, 1, 0]\n",
      "[0, 1, 1, 0, 1, 0, 0, 1, 0, 1, 0, 0, 1, 0, 0, 1, 1, 1, 1, 0]\n",
      "[0, 1, 1, 0, 1, 0, 0, 1, 0, 1, 0, 0, 1, 0, 0, 1, 1, 1, 1, 0]\n",
      "[0, 1, 1, 0, 1, 0, 0, 1, 0, 1, 0, 0, 1, 0, 0, 1, 1, 1, 1, 0]\n",
      "[0, 1, 1, 0, 1, 0, 0, 1, 0, 1, 0, 0, 1, 0, 0, 1, 1, 1, 1, 0]\n",
      "[0, 1, 1, 0, 1, 0, 0, 1, 0, 1, 0, 0, 1, 0, 0, 1, 1, 1, 1, 0]\n",
      "[0, 1, 1, 0, 1, 0, 0, 1, 0, 1, 0, 0, 1, 0, 0, 1, 1, 1, 1, 0]\n",
      "[0, 1, 1, 0, 1, 0, 0, 1, 0, 1, 0, 0, 1, 0, 0, 1, 1, 1, 1, 0]\n",
      "[0, 1, 1, 0, 1, 0, 0, 1, 0, 1, 0, 0, 1, 0, 0, 1, 1, 1, 1, 0]\n",
      "[0, 1, 1, 0, 1, 0, 0, 1, 0, 1, 0, 0, 1, 0, 0, 1, 1, 1, 1, 0]\n",
      "[0, 1, 1, 0, 1, 0, 0, 1, 0, 1, 0, 0, 1, 0, 0, 1, 1, 1, 1, 0]\n",
      "[0, 1, 1, 0, 1, 0, 0, 1, 0, 1, 0, 0, 1, 0, 0, 1, 1, 1, 1, 0]\n",
      "[0, 1, 1, 0, 1, 0, 0, 1, 0, 1, 0, 0, 1, 0, 0, 1, 1, 1, 1, 0]\n",
      "[0, 1, 1, 0, 1, 0, 0, 1, 0, 1, 0, 0, 1, 0, 0, 1, 1, 1, 1, 0]\n",
      "[0, 1, 1, 0, 1, 0, 0, 1, 0, 1, 0, 0, 1, 0, 0, 1, 1, 1, 1, 0]\n",
      "[0, 1, 1, 0, 1, 0, 0, 1, 0, 1, 0, 0, 1, 0, 0, 1, 1, 1, 1, 0]\n",
      "[0, 1, 1, 0, 1, 0, 0, 1, 0, 1, 0, 0, 1, 0, 0, 1, 1, 1, 1, 0]\n",
      "[0, 1, 1, 0, 1, 0, 0, 1, 0, 1, 0, 0, 1, 0, 0, 1, 1, 1, 1, 0]\n",
      "[0, 1, 1, 0, 1, 0, 0, 1, 0, 1, 0, 0, 1, 0, 0, 1, 1, 1, 1, 0]\n",
      "[0, 1, 1, 0, 1, 0, 0, 1, 0, 1, 0, 0, 1, 0, 0, 1, 1, 1, 1, 0]\n",
      "[0, 1, 1, 0, 1, 0, 0, 1, 0, 1, 0, 0, 1, 0, 0, 1, 1, 1, 1, 0]\n",
      "[0, 1, 1, 0, 1, 0, 0, 1, 0, 1, 0, 0, 1, 0, 0, 1, 1, 1, 1, 0]\n",
      "[0, 1, 1, 0, 1, 0, 0, 1, 0, 1, 0, 0, 1, 0, 0, 1, 1, 1, 1, 0]\n",
      "[0, 1, 1, 0, 1, 0, 0, 1, 0, 1, 0, 0, 1, 0, 0, 1, 1, 1, 1, 0]\n",
      "[0, 1, 1, 0, 1, 0, 0, 1, 0, 1, 0, 0, 1, 0, 0, 1, 1, 1, 1, 0]\n",
      "[0, 1, 1, 0, 1, 0, 0, 1, 0, 1, 0, 0, 1, 0, 0, 1, 1, 1, 1, 0]\n",
      "[0, 1, 1, 0, 1, 0, 0, 1, 0, 1, 0, 0, 1, 0, 0, 1, 1, 1, 1, 0]\n",
      "[0, 1, 1, 0, 1, 0, 0, 1, 0, 1, 0, 0, 1, 0, 0, 1, 1, 1, 1, 0]\n",
      "[0, 1, 1, 0, 1, 0, 0, 1, 0, 1, 0, 0, 1, 0, 0, 1, 1, 1, 1, 0]\n",
      "[0, 1, 1, 0, 1, 0, 0, 1, 0, 1, 0, 0, 1, 0, 0, 1, 1, 1, 1, 0]\n"
     ]
    }
   ],
   "source": [
    "Acc = list()\n",
    "i=1\n",
    "J = 0\n",
    "Best = -1\n",
    "B = False\n",
    "while True:\n",
    "    TempList = list()\n",
    "    TempList = List\n",
    "    List = list()\n",
    "\n",
    "    for t in Testset:\n",
    "        List.append(predict_classification(Dataset,t,i))\n",
    "    \n",
    "    if(TempList==List):\n",
    "        \n",
    "        print(TempList)\n",
    "        print(List)\n",
    "        J+=1\n",
    "        if(J==25):\n",
    "            break\n",
    "        if(B==False):\n",
    "            Best = i\n",
    "            B = True  \n",
    "    else:\n",
    "        J=0\n",
    "        B=False\n",
    "        \n",
    "        \n",
    "    i+=1    \n",
    "        \n",
    "\n",
    "    "
   ]
  },
  {
   "cell_type": "code",
   "execution_count": 59,
   "id": "rocky-action",
   "metadata": {},
   "outputs": [
    {
     "data": {
      "text/plain": [
       "5"
      ]
     },
     "execution_count": 59,
     "metadata": {},
     "output_type": "execute_result"
    }
   ],
   "source": [
    "Best"
   ]
  }
 ],
 "metadata": {
  "kernelspec": {
   "display_name": "Python 3",
   "language": "python",
   "name": "python3"
  },
  "language_info": {
   "codemirror_mode": {
    "name": "ipython",
    "version": 3
   },
   "file_extension": ".py",
   "mimetype": "text/x-python",
   "name": "python",
   "nbconvert_exporter": "python",
   "pygments_lexer": "ipython3",
   "version": "3.6.5"
  }
 },
 "nbformat": 4,
 "nbformat_minor": 5
}
